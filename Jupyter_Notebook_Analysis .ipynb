{
 "cells": [
  {
   "cell_type": "markdown",
   "id": "7c36f6e0",
   "metadata": {},
   "source": [
    "Written by L. Robert"
   ]
  },
  {
   "cell_type": "code",
   "execution_count": 169,
   "id": "1a9cf467",
   "metadata": {},
   "outputs": [],
   "source": [
    "import sympy\n",
    "from scipy import stats, optimize, integrate\n",
    "import numpy as np\n",
    "import matplotlib.pyplot as plt\n",
    "import scipy.optimize as opt\n",
    "\n",
    "import networkx as nx\n",
    "from networkx.drawing.nx_pydot import graphviz_layout\n",
    "\n",
    "from IPython.display import display, Markdown\n",
    "  \n",
    "from ipywidgets import interact\n",
    "import ipywidgets as widgets\n",
    "import sympy.printing as printing\n",
    "from IPython.display import display, Math, Latex\n",
    "import ipywidgets as widgets\n",
    "from ipywidgets import HBox, VBox\n",
    "import numpy as np\n",
    "import matplotlib.pyplot as plt\n",
    "from IPython.display import display\n",
    "%matplotlib inline\n",
    "from sympy import symbols, Eq, solve"
   ]
  },
  {
   "cell_type": "markdown",
   "id": "3f71f5a7",
   "metadata": {},
   "source": [
    "#### Definition of Parameters"
   ]
  },
  {
   "cell_type": "code",
   "execution_count": 170,
   "id": "30a28b45",
   "metadata": {},
   "outputs": [],
   "source": [
    "#Definition of symbols for parameters. \n",
    "n=sympy.symbols('n')\n",
    "n_j=sympy.symbols('n_j')\n",
    "n_A=sympy.symbols('n_A')\n",
    "n_j_A=sympy.symbols('n^j_A')\n",
    "n_B=sympy.symbols('n_B')\n",
    "n_j_B=sympy.symbols('n^j_B')\n",
    "q_A=sympy.symbols('q_A')\n",
    "q_B=sympy.symbols('q_B')\n",
    "q_i=sympy.symbols('q_i')\n",
    "Q_OSS=sympy.symbols('Q^OSS')\n",
    "Q_CSS=sympy.symbols('Q^CSS')\n",
    "Q_j=sympy.symbols('Q^j')\n",
    "k_A=sympy.symbols('k_A')\n",
    "k_B=sympy.symbols('k_B')\n",
    "v_A=sympy.symbols('v_A')\n",
    "v_B=sympy.symbols('v_B')\n",
    "alpha=sympy.symbols('α')\n",
    "beta=sympy.symbols('β')\n",
    "sum=sympy.symbols('sum')\n",
    "gleich=sympy.symbols('=')"
   ]
  },
  {
   "cell_type": "markdown",
   "id": "a1f7a277",
   "metadata": {},
   "source": [
    "# Jupyter Notebook Analysis "
   ]
  },
  {
   "cell_type": "markdown",
   "id": "cbafb7bc",
   "metadata": {},
   "source": [
    "## Description"
   ]
  },
  {
   "cell_type": "markdown",
   "id": "d6649d57",
   "metadata": {},
   "source": [
    "Within the scope of my bachelor thesis I analyzed the paper: “Open Source as a Signaling Device - An Economic Analysis\" by Samuel Lee, Nina Moisa and Marco Weiß (2003). In their work they analyze under which circumstances programmers contribute to Open Source Software (OSS).\n",
    "Their approach is that programmers contributes to OSS because they want to show off their programming skills. This way they can signal to a company how good they are at programming. If the company hires them, the programmers will get paid adequately to their productivity. The better the programming skills, the higher their productivity. \n",
    "Given this general idea, they wanted to explore the different scenarios when there are two types of programmers, how the programmers would act on the market if there was a OSS and a closed source software (CSS). One type of programmer is less productive than the other.\n",
    "\n",
    "Using the tools available to me on Jupyter Notebook, I want to further analyze the model in paper by Lee et. al. (2003) and show their results in a different light. I will take their work a little further, especially in the case of graphs which have dynamic variables."
   ]
  },
  {
   "cell_type": "markdown",
   "id": "d520d457",
   "metadata": {},
   "source": [
    "## Analysis of the Paper"
   ]
  },
  {
   "cell_type": "markdown",
   "id": "359df936",
   "metadata": {},
   "source": [
    "There is a total population of $n$, in which there are programmers of type A and programmers of type B."
   ]
  },
  {
   "cell_type": "code",
   "execution_count": 171,
   "id": "7bb7ece7",
   "metadata": {},
   "outputs": [
    {
     "data": {
      "text/latex": [
       "$\\displaystyle n=n_A+n_B$"
      ],
      "text/plain": [
       "<IPython.core.display.Math object>"
      ]
     },
     "metadata": {},
     "output_type": "display_data"
    }
   ],
   "source": [
    "display(Math('n=n_A+n_B'))"
   ]
  },
  {
   "cell_type": "markdown",
   "id": "b7abf885",
   "metadata": {},
   "source": [
    "The different types have different productivity $q$ and therefore different output. The amount of output is also defined as the quality of the programmer’s  work."
   ]
  },
  {
   "cell_type": "code",
   "execution_count": 172,
   "id": "e48a0b9e",
   "metadata": {},
   "outputs": [
    {
     "data": {
      "text/latex": [
       "$\\displaystyle q_{A} > q_{B}$"
      ],
      "text/plain": [
       "q_A > q_B"
      ]
     },
     "execution_count": 172,
     "metadata": {},
     "output_type": "execute_result"
    }
   ],
   "source": [
    "x = (q_A > q_B )\n",
    "x"
   ]
  },
  {
   "cell_type": "markdown",
   "id": "6a877630",
   "metadata": {},
   "source": [
    "The production function defines the total output. In this is case human capital the only input for the production."
   ]
  },
  {
   "cell_type": "code",
   "execution_count": 173,
   "id": "4fafcaa3",
   "metadata": {},
   "outputs": [
    {
     "data": {
      "text/latex": [
       "$\\displaystyle Q_j=\\sum \\limits _{i=1} ^{n_j} q_{i} = n^{j}_{A} q_{A} + n^{j}_{B} q_{B}$"
      ],
      "text/plain": [
       "<IPython.core.display.Math object>"
      ]
     },
     "metadata": {},
     "output_type": "display_data"
    },
    {
     "data": {
      "text/latex": [
       "$\\displaystyle for j=OSS, CSS$"
      ],
      "text/plain": [
       "<IPython.core.display.Math object>"
      ]
     },
     "metadata": {},
     "output_type": "display_data"
    },
    {
     "data": {
      "text/latex": [
       "$\\displaystyle n^{j}_{A} \\ and \\ n^{j}_{B} \\ are \\ the \\ amount \\ of \\ programmers\\ of  \\ type \\ A \\ or \\ B  \\ in \\ the \\ two \\ institutions.$"
      ],
      "text/plain": [
       "<IPython.core.display.Math object>"
      ]
     },
     "metadata": {},
     "output_type": "display_data"
    }
   ],
   "source": [
    "display(Math('Q_j=\\sum \\limits _{i=1} ^{n_j} q_{i} = n^{j}_{A} q_{A} + n^{j}_{B} q_{B}'))\n",
    "display(Math('for j=OSS, CSS'))\n",
    "display(Math('n^{j}_{A} \\ and \\ n^{j}_{B} \\ are \\ the \\ amount \\ of \\ programmers\\ of  \\ type \\ A \\ or \\ B  \\ in \\ the \\ two \\ institutions.'))"
   ]
  },
  {
   "cell_type": "markdown",
   "id": "5f84c421",
   "metadata": {},
   "source": [
    " $α$ and $β$ define the percentage of each type of programmer in the CSS over the total population. $α$ stand for the percentage of $n_A$ in the CSS, $β$ for the percentage of $n_B$ in the CSS. The rest of the population is part of the OSS community."
   ]
  },
  {
   "cell_type": "code",
   "execution_count": 174,
   "id": "a8ee690e",
   "metadata": {},
   "outputs": [
    {
     "data": {
      "text/latex": [
       "$\\displaystyle 0 < α < 1$"
      ],
      "text/plain": [
       "<IPython.core.display.Math object>"
      ]
     },
     "metadata": {},
     "output_type": "display_data"
    },
    {
     "data": {
      "text/latex": [
       "$\\displaystyle 0 < β < 1$"
      ],
      "text/plain": [
       "<IPython.core.display.Math object>"
      ]
     },
     "metadata": {},
     "output_type": "display_data"
    }
   ],
   "source": [
    "display(Math('0 < α < 1'))\n",
    "display(Math('0 < β < 1'))"
   ]
  },
  {
   "cell_type": "markdown",
   "id": "9c141d02",
   "metadata": {},
   "source": [
    "The total amount of output from the OSS is defined by:"
   ]
  },
  {
   "cell_type": "code",
   "execution_count": 175,
   "id": "7fadf0b0",
   "metadata": {},
   "outputs": [
    {
     "data": {
      "text/latex": [
       "$\\displaystyle Q^{OSS}= (1-α) n^{j}_{A} q_{A}+ (1-β) n^{j}_{B} q_{B}$"
      ],
      "text/plain": [
       "<IPython.core.display.Math object>"
      ]
     },
     "metadata": {},
     "output_type": "display_data"
    }
   ],
   "source": [
    "display(Math('Q^{OSS}= (1-α) n^{j}_{A} q_{A}+ (1-β) n^{j}_{B} q_{B}'))"
   ]
  },
  {
   "cell_type": "code",
   "execution_count": 176,
   "id": "2cefec84",
   "metadata": {},
   "outputs": [],
   "source": [
    "def output_OSS(alpha, beta):\n",
    "    return (1-alpha)*n_A*q_A+(1-beta)*n_B*q_B"
   ]
  },
  {
   "cell_type": "markdown",
   "id": "c4e70b8f",
   "metadata": {},
   "source": [
    "This is the total amount of output from the CSS:"
   ]
  },
  {
   "cell_type": "code",
   "execution_count": 177,
   "id": "9ff28b91",
   "metadata": {},
   "outputs": [
    {
     "data": {
      "text/latex": [
       "$\\displaystyle Q^{CSS}= α n^{j}_{A} q_{A}+ β n^{j}_{B} q_{B}$"
      ],
      "text/plain": [
       "<IPython.core.display.Math object>"
      ]
     },
     "metadata": {},
     "output_type": "display_data"
    }
   ],
   "source": [
    "display(Math('Q^{CSS}= α n^{j}_{A} q_{A}+ β n^{j}_{B} q_{B}'))"
   ]
  },
  {
   "cell_type": "code",
   "execution_count": 178,
   "id": "69d23ffa",
   "metadata": {},
   "outputs": [],
   "source": [
    "def output_CSS(alpha, beta):\n",
    "    return alpha*n_A*q_A+beta*n_B*q_B"
   ]
  },
  {
   "cell_type": "markdown",
   "id": "f9492bd9",
   "metadata": {},
   "source": [
    "The wage in the CSS gets calculated by the amount of output divided by the number of workers in the CSS. Every employee gets the same wage since the company cannot distinguish between the two types. We assume, that the CSS makes zero profits. "
   ]
  },
  {
   "cell_type": "code",
   "execution_count": 179,
   "id": "c6702c27",
   "metadata": {},
   "outputs": [
    {
     "data": {
      "text/latex": [
       "$\\displaystyle w(α, β)= \\frac{Q^\\text{CSS}}{n^\\text{CSS}}\\, = \\frac{αn_A q_A + β n_B q_B}{α n_A + β n_B}$"
      ],
      "text/plain": [
       "<IPython.core.display.Math object>"
      ]
     },
     "metadata": {},
     "output_type": "display_data"
    }
   ],
   "source": [
    "display(Math(rf'w(α, β)= \\frac{{Q^\\text{{CSS}}}}{{n^\\text{{CSS}}}}\\, = \\frac{{αn_A q_A + β n_B q_B}}{{α n_A + β n_B}}'))"
   ]
  },
  {
   "cell_type": "code",
   "execution_count": 180,
   "id": "5f5f2c39",
   "metadata": {},
   "outputs": [],
   "source": [
    "def wage(alpha, beta):\n",
    "    return (alpha*n_A*q_A+beta*n_B*q_B)/(alpha*n_A+beta*n_B)"
   ]
  },
  {
   "cell_type": "markdown",
   "id": "85edd281",
   "metadata": {},
   "source": [
    "The following graph will show high the wage for programmers in the CSS is:"
   ]
  },
  {
   "cell_type": "code",
   "execution_count": 181,
   "id": "a1c82815",
   "metadata": {},
   "outputs": [
    {
     "data": {
      "application/vnd.jupyter.widget-view+json": {
       "model_id": "c9e4d7aa395c49a4890c8cd57bb469eb",
       "version_major": 2,
       "version_minor": 0
      },
      "text/plain": [
       "interactive(children=(IntSlider(value=50, description='n_A', min=1), IntSlider(value=50, description='n_B', mi…"
      ]
     },
     "metadata": {},
     "output_type": "display_data"
    },
    {
     "data": {
      "text/plain": [
       "<function __main__.plot(n_A, n_B, q_A, q_B)>"
      ]
     },
     "execution_count": 181,
     "metadata": {},
     "output_type": "execute_result"
    }
   ],
   "source": [
    "from mpl_toolkits.mplot3d import Axes3D\n",
    "def plot(n_A, n_B, q_A, q_B):\n",
    "    fig = plt.figure()\n",
    "    ax = fig.add_subplot(111,projection='3d')\n",
    "    alpha = np.arange(0.001, 1, 0.1)\n",
    "    beta = np.arange(0.001, 1, 0.1)\n",
    "    alpha, beta = np.meshgrid(beta, alpha)\n",
    "    wage = ((alpha*n_A*q_A)+(beta*n_B*q_B))/((alpha*n_A)+(beta*n_B)) \n",
    "   \n",
    "    ax.plot_surface(beta, alpha, wage, linewidth=0.25)\n",
    "    ax.set_xlabel('β') \n",
    "    ax.set_ylabel('α') \n",
    "    ax.set_zlabel('wage')\n",
    "    plt.show()\n",
    "    \n",
    "interact(plot, n_A = (1, 100, 1), n_B = (1, 100, 1), q_A = (1, 100, 1), q_B = (1, 100, 1))\n",
    "\n",
    "\n",
    "\n"
   ]
  },
  {
   "cell_type": "markdown",
   "id": "e1e61015",
   "metadata": {},
   "source": [
    "Here the specific marginal effects on the wage the parameters $n_A, n_B, q_A$ and $q_B$ have. "
   ]
  },
  {
   "cell_type": "code",
   "execution_count": 182,
   "id": "844dbf36",
   "metadata": {},
   "outputs": [
    {
     "data": {
      "text/latex": [
       "$\\displaystyle \\frac{q_{A} α}{n_{A} α + n_{B} β} - \\frac{α \\left(n_{A} q_{A} α + n_{B} q_{B} β\\right)}{\\left(n_{A} α + n_{B} β\\right)^{2}}$"
      ],
      "text/plain": [
       "q_A*α/(n_A*α + n_B*β) - α*(n_A*q_A*α + n_B*q_B*β)/(n_A*α + n_B*β)**2"
      ]
     },
     "execution_count": 182,
     "metadata": {},
     "output_type": "execute_result"
    }
   ],
   "source": [
    "sympy.diff((alpha*n_A*q_A+beta*n_B*q_B)/(alpha*n_A+beta*n_B), n_A)"
   ]
  },
  {
   "cell_type": "markdown",
   "id": "6714c44c",
   "metadata": {},
   "source": [
    "The value above will never be zero. The marginal effect of one more programmer of type A will always be positive."
   ]
  },
  {
   "cell_type": "code",
   "execution_count": 183,
   "id": "089b38bb",
   "metadata": {},
   "outputs": [
    {
     "data": {
      "text/latex": [
       "$\\displaystyle \\frac{n_{A} α}{n_{A} α + n_{B} β}$"
      ],
      "text/plain": [
       "n_A*α/(n_A*α + n_B*β)"
      ]
     },
     "execution_count": 183,
     "metadata": {},
     "output_type": "execute_result"
    }
   ],
   "source": [
    "sympy.diff((alpha*n_A*q_A+beta*n_B*q_B)/(alpha*n_A+beta*n_B), q_A)"
   ]
  },
  {
   "cell_type": "markdown",
   "id": "67eddc39",
   "metadata": {},
   "source": [
    "The marginal effect on the wage of one more unit of productivity from a programmer of type A."
   ]
  },
  {
   "cell_type": "code",
   "execution_count": 184,
   "id": "9e57d30e",
   "metadata": {},
   "outputs": [
    {
     "data": {
      "text/latex": [
       "$\\displaystyle \\frac{q_{B} β}{n_{A} α + n_{B} β} - \\frac{β \\left(n_{A} q_{A} α + n_{B} q_{B} β\\right)}{\\left(n_{A} α + n_{B} β\\right)^{2}}$"
      ],
      "text/plain": [
       "q_B*β/(n_A*α + n_B*β) - β*(n_A*q_A*α + n_B*q_B*β)/(n_A*α + n_B*β)**2"
      ]
     },
     "execution_count": 184,
     "metadata": {},
     "output_type": "execute_result"
    }
   ],
   "source": [
    "sympy.diff((alpha*n_A*q_A+beta*n_B*q_B)/(alpha*n_A+beta*n_B), n_B)"
   ]
  },
  {
   "cell_type": "markdown",
   "id": "49e74ddc",
   "metadata": {},
   "source": [
    "The value above will never be zero. The negative marginal effect of one more programmer of type B will always be negative."
   ]
  },
  {
   "cell_type": "code",
   "execution_count": 185,
   "id": "6149406c",
   "metadata": {},
   "outputs": [
    {
     "data": {
      "text/latex": [
       "$\\displaystyle \\frac{n_{B} β}{n_{A} α + n_{B} β}$"
      ],
      "text/plain": [
       "n_B*β/(n_A*α + n_B*β)"
      ]
     },
     "execution_count": 185,
     "metadata": {},
     "output_type": "execute_result"
    }
   ],
   "source": [
    "sympy.diff((alpha*n_A*q_A+beta*n_B*q_B)/(alpha*n_A+beta*n_B), q_B)"
   ]
  },
  {
   "cell_type": "markdown",
   "id": "13280e05",
   "metadata": {},
   "source": [
    "The marginal effect on the wage of one more unit of productivity from a programmer of type B."
   ]
  },
  {
   "cell_type": "markdown",
   "id": "559d055e",
   "metadata": {},
   "source": [
    "Additionally to the paper we see how the quality of the code and the amount of each type of programmer will influence the wage a company will pay to its employees.  "
   ]
  },
  {
   "cell_type": "markdown",
   "id": "f8dc602a",
   "metadata": {},
   "source": [
    "### Deferred Payoff"
   ]
  },
  {
   "cell_type": "markdown",
   "id": "3b34f9c8",
   "metadata": {},
   "source": [
    "By contributing to OSS programmers may earn signals that indicate their productivity and programming skills. These can lead to a job-offer from another company, where they could get an adequate salary. This is the deferred payoff for the work they are doing right at that moment.  "
   ]
  },
  {
   "cell_type": "markdown",
   "id": "de675005",
   "metadata": {},
   "source": [
    "The following functions represent the amount of deferred payoff a programmer could get:"
   ]
  },
  {
   "cell_type": "code",
   "execution_count": 186,
   "id": "926fd878",
   "metadata": {
    "scrolled": true
   },
   "outputs": [
    {
     "data": {
      "text/latex": [
       "$\\displaystyle r_A(α)=-\\frac{4 n_A^2 v_A}{k_A^2}\\ [α-(1- \\frac{k_A}{2 n_A})]^2 + v_A$"
      ],
      "text/plain": [
       "<IPython.core.display.Math object>"
      ]
     },
     "metadata": {},
     "output_type": "display_data"
    }
   ],
   "source": [
    "display(Math(rf'r_A(α)=-\\frac{{4 n_A^2 v_A}}{{k_A^2}}\\ [α-(1- \\frac{{k_A}}{{2 n_A}})]^2 + v_A' ))"
   ]
  },
  {
   "cell_type": "code",
   "execution_count": 187,
   "id": "02937701",
   "metadata": {},
   "outputs": [],
   "source": [
    "def deferred_payoff_A(alpha):\n",
    "    return -((4*(n_A)**2*v_A)/(k_A)**2)*(alpha-(1-(k_A)/(2*n_A)))**2+v_A  \n",
    "deff_pay_A=deferred_payoff_A(alpha)"
   ]
  },
  {
   "cell_type": "code",
   "execution_count": 188,
   "id": "1d54e99c",
   "metadata": {},
   "outputs": [
    {
     "data": {
      "text/latex": [
       "$\\displaystyle r_B(β)= -\\frac{4 n_B^2 v_B}{k_B^2}\\ [β-(1- \\frac{k_B}{2 n_B})]^2 + v_B,$"
      ],
      "text/plain": [
       "<IPython.core.display.Math object>"
      ]
     },
     "metadata": {},
     "output_type": "display_data"
    }
   ],
   "source": [
    "display(Math(rf'r_B(β)= -\\frac{{4 n_B^2 v_B}}{{k_B^2}}\\ [β-(1- \\frac{{k_B}}{{2 n_B}})]^2 + v_B,' ))"
   ]
  },
  {
   "cell_type": "code",
   "execution_count": 189,
   "id": "81e58ea7",
   "metadata": {},
   "outputs": [],
   "source": [
    "def deferred_payoff_B(beta):\n",
    "    return -((4*(n_B)**2*v_B)/(k_B)**2)*(beta-(1-(k_B)/(2*n_B)))**2+v_B\n",
    "deff_pay_B=deferred_payoff_B(beta)    "
   ]
  },
  {
   "cell_type": "markdown",
   "id": "e0f4ad22",
   "metadata": {},
   "source": [
    "The more contributors there are, the more programmers must excel to distinguish themself from other programmers in the OSS community. Therefore, the probability to get a signal is negatively correlated with the amount of contributors. But the more contributors there are with the OSS, the more contributions there will be made for the project and the higher the quality of the OSS is. "
   ]
  },
  {
   "cell_type": "markdown",
   "id": "b6057d0a",
   "metadata": {},
   "source": [
    "The variable $k$ is the potential of innovation in the industry. This can be interpreted as the number of problems that can be solved by innovation. The higher the potential, the less competition there will be and the higher the visibility of the project. This leads to a higher probability that a programmer can earn a signal. In the functions bellow, $k$ defines the number of programmers of type A or B that will get zero payoff, depending on other parameters."
   ]
  },
  {
   "cell_type": "markdown",
   "id": "3c0dd2ba",
   "metadata": {},
   "source": [
    "A company is interested in new talents that can be discovered in an OSS project. If they are risk-averse and fear asymmetric information on the market, they might pay a fee to be informed of the talents in the OSS community. But they will most probably only pay for information for programmers of type A. These elements are subsumed in the variables $v_A$ and $v_B$. It is related to the personal productivity."
   ]
  },
  {
   "cell_type": "markdown",
   "id": "ed11677e",
   "metadata": {},
   "source": [
    "The following graph will show high the differed payoff is for programmers in the OSS is. this It is dependent of $k_i$, $v_i$ and $n_i$. "
   ]
  },
  {
   "cell_type": "code",
   "execution_count": 190,
   "id": "c7eb4a35",
   "metadata": {},
   "outputs": [
    {
     "data": {
      "application/vnd.jupyter.widget-view+json": {
       "model_id": "6771e91e03b046a09d05473b5873a8fd",
       "version_major": 2,
       "version_minor": 0
      },
      "text/plain": [
       "interactive(children=(IntSlider(value=50, description='n_A', min=1), IntSlider(value=50, description='n_B', mi…"
      ]
     },
     "metadata": {},
     "output_type": "display_data"
    },
    {
     "data": {
      "text/plain": [
       "<function __main__.plot(n_A, n_B, v_A, v_B, k_A, k_B)>"
      ]
     },
     "execution_count": 190,
     "metadata": {},
     "output_type": "execute_result"
    }
   ],
   "source": [
    "def plot(n_A, n_B, v_A, v_B, k_A, k_B):\n",
    "    fig = plt.figure()\n",
    "    fig, ax = plt.subplots()\n",
    "    alpha = np.arange(0, 1, 0.01)\n",
    "    beta = np.arange(0, 1, 0.01)\n",
    "    \n",
    "    pay_A= -((4*(n_A)**2*v_A)/(k_A)**2)*(alpha-(1-(k_A)/(2*n_A)))**2+v_A\n",
    "    pay_B= -((4*(n_B)**2*v_B)/(k_B)**2)*(beta-(1-(k_B)/(2*n_B)))**2+v_B\n",
    "    zero= alpha*0\n",
    "   \n",
    "    plt.plot(alpha, pay_A, 'blue')\n",
    "    plt.plot(beta, pay_B, 'red')\n",
    "    plt.plot(alpha, zero, 'black' )\n",
    "    \n",
    "    ax.set_xlabel('α, β') \n",
    "    ax.set_ylabel('$r_i$') \n",
    "    \n",
    "    plt.show()\n",
    "    \n",
    "interact(plot, n_A = (1, 100, 1), n_B = (1, 100, 1), v_A = (1, 100, 1), v_B = (1, 100, 1), k_A = (1, 100, 1), k_B = (1, 100, 1) )\n"
   ]
  },
  {
   "cell_type": "code",
   "execution_count": 191,
   "id": "9ac0c7c2",
   "metadata": {},
   "outputs": [
    {
     "data": {
      "text/latex": [
       "$\\displaystyle \\frac{4 v_{A} \\left(\\frac{k_{A}}{2 n_{A}} + α - 1\\right)}{k_{A}} - \\frac{8 n_{A} v_{A} \\left(\\frac{k_{A}}{2 n_{A}} + α - 1\\right)^{2}}{k_{A}^{2}}$"
      ],
      "text/plain": [
       "4*v_A*(k_A/(2*n_A) + α - 1)/k_A - 8*n_A*v_A*(k_A/(2*n_A) + α - 1)**2/k_A**2"
      ]
     },
     "execution_count": 191,
     "metadata": {},
     "output_type": "execute_result"
    }
   ],
   "source": [
    "sympy.diff(deff_pay_A, n_A)"
   ]
  },
  {
   "cell_type": "markdown",
   "id": "58b83a65",
   "metadata": {},
   "source": [
    "The marginal effect on the deferred payoff of one more programmer of type A."
   ]
  },
  {
   "cell_type": "code",
   "execution_count": 192,
   "id": "cf638547",
   "metadata": {},
   "outputs": [
    {
     "data": {
      "text/latex": [
       "$\\displaystyle 1 - \\frac{4 n_{A}^{2} \\left(\\frac{k_{A}}{2 n_{A}} + α - 1\\right)^{2}}{k_{A}^{2}}$"
      ],
      "text/plain": [
       "1 - 4*n_A**2*(k_A/(2*n_A) + α - 1)**2/k_A**2"
      ]
     },
     "execution_count": 192,
     "metadata": {},
     "output_type": "execute_result"
    }
   ],
   "source": [
    "sympy.diff(deff_pay_A, v_A)"
   ]
  },
  {
   "cell_type": "markdown",
   "id": "e3ede332",
   "metadata": {},
   "source": [
    "The marginal effect on the deferred payoff of one more unit of $v_A$."
   ]
  },
  {
   "cell_type": "code",
   "execution_count": 193,
   "id": "8f050cb3",
   "metadata": {},
   "outputs": [
    {
     "data": {
      "text/latex": [
       "$\\displaystyle - \\frac{4 n_{A} v_{A} \\left(\\frac{k_{A}}{2 n_{A}} + α - 1\\right)}{k_{A}^{2}} + \\frac{8 n_{A}^{2} v_{A} \\left(\\frac{k_{A}}{2 n_{A}} + α - 1\\right)^{2}}{k_{A}^{3}}$"
      ],
      "text/plain": [
       "-4*n_A*v_A*(k_A/(2*n_A) + α - 1)/k_A**2 + 8*n_A**2*v_A*(k_A/(2*n_A) + α - 1)**2/k_A**3"
      ]
     },
     "execution_count": 193,
     "metadata": {},
     "output_type": "execute_result"
    }
   ],
   "source": [
    "sympy.diff(deff_pay_A, k_A)"
   ]
  },
  {
   "cell_type": "markdown",
   "id": "72f2d1ab",
   "metadata": {},
   "source": [
    "The marginal effect on the deferred payoff of one more unit of $k_A$."
   ]
  },
  {
   "cell_type": "code",
   "execution_count": 194,
   "id": "c1344666",
   "metadata": {},
   "outputs": [
    {
     "data": {
      "text/latex": [
       "$\\displaystyle \\frac{4 v_{B} \\left(\\frac{k_{B}}{2 n_{B}} + β - 1\\right)}{k_{B}} - \\frac{8 n_{B} v_{B} \\left(\\frac{k_{B}}{2 n_{B}} + β - 1\\right)^{2}}{k_{B}^{2}}$"
      ],
      "text/plain": [
       "4*v_B*(k_B/(2*n_B) + β - 1)/k_B - 8*n_B*v_B*(k_B/(2*n_B) + β - 1)**2/k_B**2"
      ]
     },
     "execution_count": 194,
     "metadata": {},
     "output_type": "execute_result"
    }
   ],
   "source": [
    "sympy.diff(deff_pay_B, n_B)"
   ]
  },
  {
   "cell_type": "markdown",
   "id": "70155e7b",
   "metadata": {},
   "source": [
    "The marginal effect on the deferred payoff of one more programmer of type B."
   ]
  },
  {
   "cell_type": "code",
   "execution_count": 195,
   "id": "64a2ed46",
   "metadata": {},
   "outputs": [
    {
     "data": {
      "text/latex": [
       "$\\displaystyle 1 - \\frac{4 n_{B}^{2} \\left(\\frac{k_{B}}{2 n_{B}} + β - 1\\right)^{2}}{k_{B}^{2}}$"
      ],
      "text/plain": [
       "1 - 4*n_B**2*(k_B/(2*n_B) + β - 1)**2/k_B**2"
      ]
     },
     "execution_count": 195,
     "metadata": {},
     "output_type": "execute_result"
    }
   ],
   "source": [
    "sympy.diff(deff_pay_B, v_B)"
   ]
  },
  {
   "cell_type": "markdown",
   "id": "578e7ae2",
   "metadata": {},
   "source": [
    "The marginal effect on the deferred payoff of one more unit of $v_B$."
   ]
  },
  {
   "cell_type": "code",
   "execution_count": 196,
   "id": "92ab490f",
   "metadata": {},
   "outputs": [
    {
     "data": {
      "text/latex": [
       "$\\displaystyle - \\frac{4 n_{B} v_{B} \\left(\\frac{k_{B}}{2 n_{B}} + β - 1\\right)}{k_{B}^{2}} + \\frac{8 n_{B}^{2} v_{B} \\left(\\frac{k_{B}}{2 n_{B}} + β - 1\\right)^{2}}{k_{B}^{3}}$"
      ],
      "text/plain": [
       "-4*n_B*v_B*(k_B/(2*n_B) + β - 1)/k_B**2 + 8*n_B**2*v_B*(k_B/(2*n_B) + β - 1)**2/k_B**3"
      ]
     },
     "execution_count": 196,
     "metadata": {},
     "output_type": "execute_result"
    }
   ],
   "source": [
    "sympy.diff(deff_pay_B, k_B)"
   ]
  },
  {
   "cell_type": "markdown",
   "id": "f85e3c08",
   "metadata": {},
   "source": [
    "The marginal effect on the deferred payoff of one more unit of $k_B$."
   ]
  },
  {
   "cell_type": "markdown",
   "id": "88c7d3a5",
   "metadata": {},
   "source": [
    "## Analysis of the Equilibrium"
   ]
  },
  {
   "cell_type": "markdown",
   "id": "b9760fba",
   "metadata": {},
   "source": [
    "### Analyzing the decision of type B"
   ]
  },
  {
   "cell_type": "markdown",
   "id": "b1e83250",
   "metadata": {},
   "source": [
    "From here on we assume that $\\alpha$ and $\\beta$ are known with certainty. We look at a static equilibrium which is a state where there is no tendency for change. An agent in this equilibrium will presume that his action will not affect the overall distribution and will therefor only take the wage and the delayed payoff as a reference for his actions. "
   ]
  },
  {
   "cell_type": "markdown",
   "id": "08ffdcae",
   "metadata": {},
   "source": [
    "Difference of pay:"
   ]
  },
  {
   "cell_type": "code",
   "execution_count": 197,
   "id": "378b47f0",
   "metadata": {},
   "outputs": [
    {
     "data": {
      "text/latex": [
       "$\\displaystyle Δ_A (α) = w(α, β)-r_A(α)$"
      ],
      "text/plain": [
       "<IPython.core.display.Math object>"
      ]
     },
     "metadata": {},
     "output_type": "display_data"
    },
    {
     "data": {
      "text/latex": [
       "$\\displaystyle Δ_B (β) = w(α, β)-r_A(β)$"
      ],
      "text/plain": [
       "<IPython.core.display.Math object>"
      ]
     },
     "metadata": {},
     "output_type": "display_data"
    }
   ],
   "source": [
    "display(Math('Δ_A (α) = w(α, β)-r_A(α)'))\n",
    "display(Math('Δ_B (β) = w(α, β)-r_A(β)'))"
   ]
  },
  {
   "cell_type": "code",
   "execution_count": 198,
   "id": "9770cc3a",
   "metadata": {},
   "outputs": [],
   "source": [
    "def difference_A(alpha, beta):\n",
    "    return wage(alpha, beta)-deferred_payoff_A(alpha)\n",
    "    \n",
    "def difference_B(alpha, beta):\n",
    "    return wage(alpha, beta)-deferred_payoff_B(beta)"
   ]
  },
  {
   "cell_type": "markdown",
   "id": "831df091",
   "metadata": {},
   "source": [
    "$\\Delta_i$ shows the decision each type of programmer will take. If the respective $\\Delta_i$ is negative, they will begin program for the OSS, if it is positive, they will continue programming for the CSS."
   ]
  },
  {
   "cell_type": "code",
   "execution_count": 199,
   "id": "ffc09e3d",
   "metadata": {},
   "outputs": [
    {
     "data": {
      "text/latex": [
       "$\\displaystyle - v_{B} + \\frac{n_{A} q_{A} α + n_{B} q_{B} β}{n_{A} α + n_{B} β} + \\frac{4 n_{B}^{2} v_{B} \\left(\\frac{k_{B}}{2 n_{B}} + β - 1\\right)^{2}}{k_{B}^{2}}$"
      ],
      "text/plain": [
       "-v_B + (n_A*q_A*α + n_B*q_B*β)/(n_A*α + n_B*β) + 4*n_B**2*v_B*(k_B/(2*n_B) + β - 1)**2/k_B**2"
      ]
     },
     "execution_count": 199,
     "metadata": {},
     "output_type": "execute_result"
    }
   ],
   "source": [
    "difference_B(alpha, beta)"
   ]
  },
  {
   "cell_type": "code",
   "execution_count": 200,
   "id": "7f6f42a5",
   "metadata": {},
   "outputs": [
    {
     "data": {
      "text/latex": [
       "$\\displaystyle w(α, β) = r_A(α)$"
      ],
      "text/plain": [
       "<IPython.core.display.Math object>"
      ]
     },
     "metadata": {},
     "output_type": "display_data"
    },
    {
     "data": {
      "text/latex": [
       "$\\displaystyle w(α, β) = r_A(β)$"
      ],
      "text/plain": [
       "<IPython.core.display.Math object>"
      ]
     },
     "metadata": {},
     "output_type": "display_data"
    }
   ],
   "source": [
    "display(Math('w(α, β) = r_A(α)'))\n",
    "display(Math('w(α, β) = r_A(β)'))"
   ]
  },
  {
   "cell_type": "markdown",
   "id": "72e31b32",
   "metadata": {},
   "source": [
    "In this case both types of programmers are indifferent."
   ]
  },
  {
   "cell_type": "code",
   "execution_count": 201,
   "id": "bfa8579d",
   "metadata": {},
   "outputs": [
    {
     "data": {
      "text/latex": [
       "$\\displaystyle - v_{B} + \\frac{n_{A} q_{A} α + n_{B} q_{B} β}{n_{A} α + n_{B} β} + \\frac{4 n_{B}^{2} v_{B} \\left(\\frac{k_{B}}{2 n_{B}} + β - 1\\right)^{2}}{k_{B}^{2}}$"
      ],
      "text/plain": [
       "-v_B + (n_A*q_A*α + n_B*q_B*β)/(n_A*α + n_B*β) + 4*n_B**2*v_B*(k_B/(2*n_B) + β - 1)**2/k_B**2"
      ]
     },
     "execution_count": 201,
     "metadata": {},
     "output_type": "execute_result"
    }
   ],
   "source": [
    "difference_B(alpha, beta)"
   ]
  },
  {
   "cell_type": "markdown",
   "id": "a5079577",
   "metadata": {},
   "source": [
    "The difference-function can never be negative for type B since they will never eran more on the market than is equal to their productivity. So, a programmer of type B will always work for the CSS."
   ]
  },
  {
   "cell_type": "markdown",
   "id": "e9a25767",
   "metadata": {},
   "source": [
    "With this new information that $\\beta = 1$ we have a new wage function for programmers of type A."
   ]
  },
  {
   "cell_type": "code",
   "execution_count": 202,
   "id": "56012f7c",
   "metadata": {},
   "outputs": [
    {
     "data": {
      "text/latex": [
       "$\\displaystyle \\frac{n_{A} q_{A} α + n_{B} q_{B}}{n_{A} α + n_{B}}$"
      ],
      "text/plain": [
       "(n_A*q_A*α + n_B*q_B)/(n_A*α + n_B)"
      ]
     },
     "execution_count": 202,
     "metadata": {},
     "output_type": "execute_result"
    }
   ],
   "source": [
    "pay_A=wage(alpha, 1)\n",
    "pay_A"
   ]
  },
  {
   "cell_type": "markdown",
   "id": "22ce4e9c",
   "metadata": {},
   "source": [
    "The following graph will show high the new wage is for programmers of type A in the CSS is."
   ]
  },
  {
   "cell_type": "code",
   "execution_count": 203,
   "id": "41ddac90",
   "metadata": {},
   "outputs": [
    {
     "data": {
      "application/vnd.jupyter.widget-view+json": {
       "model_id": "c24d808ed07743e0b9a72b48ccd76225",
       "version_major": 2,
       "version_minor": 0
      },
      "text/plain": [
       "interactive(children=(IntSlider(value=50, description='q_A', min=1), IntSlider(value=50, description='q_B', mi…"
      ]
     },
     "metadata": {},
     "output_type": "display_data"
    },
    {
     "data": {
      "text/plain": [
       "<function __main__.plot(q_A, q_B, n_A, n_B)>"
      ]
     },
     "execution_count": 203,
     "metadata": {},
     "output_type": "execute_result"
    }
   ],
   "source": [
    "def plot(q_A, q_B, n_A, n_B):\n",
    "    fig = plt.figure()\n",
    "    fig, ax = plt.subplots()\n",
    "    alpha = np.arange(0.01, 1, 0.01)\n",
    "    \n",
    "    \n",
    "    pay_A= q_B+((n_A*(q_A-q_B))/(n_A+alpha*n_A))*alpha\n",
    "    \n",
    "    plt.plot(alpha, pay_A)\n",
    "    \n",
    "    \n",
    "    ax.set_xlabel('α') # Add an x-label to the axes.\n",
    "    ax.set_ylabel('w') # Add a y-label to the axes.\n",
    "    \n",
    "    plt.show()\n",
    "    \n",
    "interact(plot, q_A =(1, 100, 1), q_B=(1, 100, 1), n_A=(1, 100, 1), n_B=(1, 100, 1))\n"
   ]
  },
  {
   "cell_type": "code",
   "execution_count": 204,
   "id": "28ca4355",
   "metadata": {},
   "outputs": [
    {
     "data": {
      "text/latex": [
       "$\\displaystyle \\frac{q_{A} α}{n_{A} α + n_{B}} - \\frac{α \\left(n_{A} q_{A} α + n_{B} q_{B}\\right)}{\\left(n_{A} α + n_{B}\\right)^{2}}$"
      ],
      "text/plain": [
       "q_A*α/(n_A*α + n_B) - α*(n_A*q_A*α + n_B*q_B)/(n_A*α + n_B)**2"
      ]
     },
     "execution_count": 204,
     "metadata": {},
     "output_type": "execute_result"
    }
   ],
   "source": [
    "sympy.diff(pay_A, n_A)"
   ]
  },
  {
   "cell_type": "markdown",
   "id": "e85abb5f",
   "metadata": {},
   "source": [
    "The marginal effect on the wage of type A programmers of one more programmer of type A."
   ]
  },
  {
   "cell_type": "code",
   "execution_count": 205,
   "id": "8bb9a745",
   "metadata": {},
   "outputs": [
    {
     "data": {
      "text/latex": [
       "$\\displaystyle \\frac{q_{B}}{n_{A} α + n_{B}} - \\frac{n_{A} q_{A} α + n_{B} q_{B}}{\\left(n_{A} α + n_{B}\\right)^{2}}$"
      ],
      "text/plain": [
       "q_B/(n_A*α + n_B) - (n_A*q_A*α + n_B*q_B)/(n_A*α + n_B)**2"
      ]
     },
     "execution_count": 205,
     "metadata": {},
     "output_type": "execute_result"
    }
   ],
   "source": [
    "sympy.diff(pay_A, n_B)"
   ]
  },
  {
   "cell_type": "markdown",
   "id": "ee09ebb0",
   "metadata": {},
   "source": [
    "The marginal effect on the wage of type A programmers of one more programmer of type B."
   ]
  },
  {
   "cell_type": "code",
   "execution_count": 206,
   "id": "f5b3cdad",
   "metadata": {},
   "outputs": [
    {
     "data": {
      "text/latex": [
       "$\\displaystyle \\frac{n_{A} α}{n_{A} α + n_{B}}$"
      ],
      "text/plain": [
       "n_A*α/(n_A*α + n_B)"
      ]
     },
     "execution_count": 206,
     "metadata": {},
     "output_type": "execute_result"
    }
   ],
   "source": [
    "sympy.diff(pay_A, q_A)"
   ]
  },
  {
   "cell_type": "markdown",
   "id": "3f2b0baa",
   "metadata": {},
   "source": [
    "The marginal effect on the wage of type A programmers of one more unit of $q_A$."
   ]
  },
  {
   "cell_type": "code",
   "execution_count": 207,
   "id": "a1e9bfec",
   "metadata": {},
   "outputs": [
    {
     "data": {
      "text/latex": [
       "$\\displaystyle \\frac{n_{B}}{n_{A} α + n_{B}}$"
      ],
      "text/plain": [
       "n_B/(n_A*α + n_B)"
      ]
     },
     "execution_count": 207,
     "metadata": {},
     "output_type": "execute_result"
    }
   ],
   "source": [
    "sympy.diff(pay_A, q_B)"
   ]
  },
  {
   "cell_type": "markdown",
   "id": "e447aae9",
   "metadata": {},
   "source": [
    "The marginal effect on the wage of type A programmers of one more unit of $q_B$."
   ]
  },
  {
   "cell_type": "markdown",
   "id": "2231174d",
   "metadata": {},
   "source": [
    "### Analyzing the decision of type A"
   ]
  },
  {
   "cell_type": "markdown",
   "id": "9b6ab37d",
   "metadata": {},
   "source": [
    "If there were no programmers of type B, all programmers of type A would work for the CSS because the wage would be $q_A$. Since the overall quality of the code will be $q_A$ all programmers will be compensated with the wage of $q_A$. They have no initiative to go and work for the OSS, since they would not get better offers on the market. "
   ]
  },
  {
   "cell_type": "code",
   "execution_count": 208,
   "id": "4d7a858e",
   "metadata": {},
   "outputs": [
    {
     "data": {
      "text/latex": [
       "$\\displaystyle q_{A} - v_{A} + \\frac{4 n_{A}^{2} v_{A} \\left(\\frac{k_{A}}{2 n_{A}} + α - 1\\right)^{2}}{k_{A}^{2}}$"
      ],
      "text/plain": [
       "q_A - v_A + 4*n_A**2*v_A*(k_A/(2*n_A) + α - 1)**2/k_A**2"
      ]
     },
     "execution_count": 208,
     "metadata": {},
     "output_type": "execute_result"
    }
   ],
   "source": [
    "difference= q_A-deferred_payoff_A(alpha)\n",
    "difference"
   ]
  },
  {
   "cell_type": "markdown",
   "id": "302eedda",
   "metadata": {},
   "source": [
    "If we combine the wage function and the function  for the deferred payoff to get $\\Delta_A$, the function is:"
   ]
  },
  {
   "cell_type": "code",
   "execution_count": 209,
   "id": "aca8dc9d",
   "metadata": {},
   "outputs": [
    {
     "data": {
      "text/latex": [
       "$\\displaystyle - v_{A} + \\frac{n_{A} q_{A} α + n_{B} q_{B} β}{n_{A} α + n_{B} β} + \\frac{4 n_{A}^{2} v_{A} \\left(\\frac{k_{A}}{2 n_{A}} + α - 1\\right)^{2}}{k_{A}^{2}}$"
      ],
      "text/plain": [
       "-v_A + (n_A*q_A*α + n_B*q_B*β)/(n_A*α + n_B*β) + 4*n_A**2*v_A*(k_A/(2*n_A) + α - 1)**2/k_A**2"
      ]
     },
     "execution_count": 209,
     "metadata": {},
     "output_type": "execute_result"
    }
   ],
   "source": [
    "difference_A(alpha, beta)"
   ]
  },
  {
   "cell_type": "markdown",
   "id": "2fcaf1d7",
   "metadata": {},
   "source": [
    "The second addend will never be negative. For the first addends it is dependent on the relation between $v_A$ and the productivity of each type ($q_A$ and $q_B$)."
   ]
  },
  {
   "cell_type": "markdown",
   "id": "e9f43005",
   "metadata": {},
   "source": [
    "If we put $\\beta=1$ in the function above, as we have determined befor is the case on the market, we will get the following function"
   ]
  },
  {
   "cell_type": "code",
   "execution_count": 210,
   "id": "3e4b593b",
   "metadata": {},
   "outputs": [
    {
     "data": {
      "text/latex": [
       "$\\displaystyle - v_{A} + \\frac{n_{A} q_{A} α + n_{B} q_{B}}{n_{A} α + n_{B}} + \\frac{4 n_{A}^{2} v_{A} \\left(\\frac{k_{A}}{2 n_{A}} + α - 1\\right)^{2}}{k_{A}^{2}}$"
      ],
      "text/plain": [
       "-v_A + (n_A*q_A*α + n_B*q_B)/(n_A*α + n_B) + 4*n_A**2*v_A*(k_A/(2*n_A) + α - 1)**2/k_A**2"
      ]
     },
     "execution_count": 210,
     "metadata": {},
     "output_type": "execute_result"
    }
   ],
   "source": [
    "difference_A(alpha, 1)"
   ]
  },
  {
   "cell_type": "markdown",
   "id": "39ba4dd7",
   "metadata": {},
   "source": [
    "So, the first addend is the only that could be negative. That is the case if $v_A$ exceeds $q_B$ to a sufficient degree. Since $q_B$ is the lower bound for the wage function and $v_A$ is the maximum of the deferred payoff the condition $q_B < v_A$ is a minimal condition for the signaling mechanism. "
   ]
  },
  {
   "cell_type": "markdown",
   "id": "0df06f8e",
   "metadata": {},
   "source": [
    "If we change the parameters of $k_A=2 n_A$ and $v_A = q_A$ in the deferred payoff function, we will get the following function:"
   ]
  },
  {
   "cell_type": "code",
   "execution_count": 211,
   "id": "d903e9b2",
   "metadata": {},
   "outputs": [],
   "source": [
    "def deferred_payoff_A(alpha):\n",
    "    return -((4*(n_A)**2*q_A)/(2*n_A)**2)*(alpha-(1-(q_A)/(2*n_A)))**2+q_A"
   ]
  },
  {
   "cell_type": "code",
   "execution_count": 212,
   "id": "c67b67e2",
   "metadata": {},
   "outputs": [
    {
     "data": {
      "text/latex": [
       "$\\displaystyle q_{A} \\left(α - 1 + \\frac{q_{A}}{2 n_{A}}\\right)^{2} - q_{A} + \\frac{n_{A} q_{A} α + n_{B} q_{B}}{n_{A} α + n_{B}}$"
      ],
      "text/plain": [
       "q_A*(α - 1 + q_A/(2*n_A))**2 - q_A + (n_A*q_A*α + n_B*q_B)/(n_A*α + n_B)"
      ]
     },
     "execution_count": 212,
     "metadata": {},
     "output_type": "execute_result"
    }
   ],
   "source": [
    "difference_A(alpha, 1)"
   ]
  },
  {
   "cell_type": "markdown",
   "id": "a1a8b37f",
   "metadata": {},
   "source": [
    "If there are no programmers of type A in the CSS:"
   ]
  },
  {
   "cell_type": "code",
   "execution_count": 213,
   "id": "cfa5ed51",
   "metadata": {},
   "outputs": [
    {
     "data": {
      "text/latex": [
       "$\\displaystyle q_{A} \\left(-1 + \\frac{q_{A}}{2 n_{A}}\\right)^{2} - q_{A} + q_{B}$"
      ],
      "text/plain": [
       "q_A*(-1 + q_A/(2*n_A))**2 - q_A + q_B"
      ]
     },
     "execution_count": 213,
     "metadata": {},
     "output_type": "execute_result"
    }
   ],
   "source": [
    "difference_A(0, 1)"
   ]
  },
  {
   "cell_type": "markdown",
   "id": "5f0e3051",
   "metadata": {},
   "source": [
    "This will be a result that is less than zero. So, there is a constellation for $q_B < v_A$ and $0 < n_B$ that will lead to a non-positive value. That is a sufficient condition for a type A programmer to join the OSS.  "
   ]
  },
  {
   "cell_type": "markdown",
   "id": "ef603494",
   "metadata": {},
   "source": [
    "From all the functions above, we can follow that a CSS exists in any case. From the condition just before we can deduce that under certain conditions it is possible that a OSS will co-exist. But it will not necessarily be established. For example, if $\\alpha = 1$."
   ]
  },
  {
   "cell_type": "markdown",
   "id": "975dce3d",
   "metadata": {},
   "source": [
    "## Comparative statistics"
   ]
  },
  {
   "cell_type": "markdown",
   "id": "acdbbdac",
   "metadata": {},
   "source": [
    "The number of equilibria depends on the relation between the number of programmers of type A and the total number of programmers that will get a value of zero for the deferred payoff. We assume that $\\beta=1$ and $q_A=v_A$, so programmers of type A will get a salary adequate to their skills. \n",
    "We distinguish three cases, that will be established in the following cells:"
   ]
  },
  {
   "cell_type": "markdown",
   "id": "fa6873e0",
   "metadata": {},
   "source": [
    "#### CASE 1"
   ]
  },
  {
   "cell_type": "code",
   "execution_count": 214,
   "id": "f791bd6a",
   "metadata": {},
   "outputs": [
    {
     "data": {
      "text/latex": [
       "$\\displaystyle \\frac{n_A}{k_A}\\ < \\frac{1}{2}\\ (1-\\sqrt{1- \\frac{q_B}{q_A} \\ }\\ ) $"
      ],
      "text/plain": [
       "<IPython.core.display.Math object>"
      ]
     },
     "metadata": {},
     "output_type": "display_data"
    }
   ],
   "source": [
    "display(Math (rf\"\\frac{{n_A}}{{k_A}}\\ < \\frac{{1}}{{2}}\\ (1-\\sqrt{{1- \\frac{{q_B}}{{q_A}} \\ }}\\ ) \" ))  "
   ]
  },
  {
   "cell_type": "markdown",
   "id": "09faf87d",
   "metadata": {},
   "source": [
    "In this case only the right-hand corner solution will hold for an equilibrium. For a certain innovative potential and a comparatively low number of type A programmer it is difficult to get a OSS started that is qualitatively good. In this case the OSS could not get the visibility and credibility that the programmers can get a signal for an adequate salary to their skills. In this equilibrium there will be no OSS, only the CSS exists.   "
   ]
  },
  {
   "cell_type": "markdown",
   "id": "c931a778",
   "metadata": {},
   "source": [
    "#### CASE 2"
   ]
  },
  {
   "cell_type": "code",
   "execution_count": 215,
   "id": "fe364289",
   "metadata": {},
   "outputs": [
    {
     "data": {
      "text/latex": [
       "$\\displaystyle  \\frac{1}{2}\\ (1-\\sqrt{1- \\frac{q_B}{q_A} \\ }\\ ) \\leq  \\frac{n_A}{k_A}\\ < \\frac{1}{2}\\ (1+\\sqrt{1 - \\frac{q_B}{q_A} \\ }\\ ) $"
      ],
      "text/plain": [
       "<IPython.core.display.Math object>"
      ]
     },
     "metadata": {},
     "output_type": "display_data"
    }
   ],
   "source": [
    "display(Math (rf\" \\frac{{1}}{{2}}\\ (1-\\sqrt{{1- \\frac{{q_B}}{{q_A}} \\ }}\\ ) \\leq  \\frac{{n_A}}{{k_A}}\\ < \\frac{{1}}{{2}}\\ (1+\\sqrt{{1 - \\frac{{q_B}}{{q_A}} \\ }}\\ ) \" ))  "
   ]
  },
  {
   "cell_type": "markdown",
   "id": "d7ec55fb",
   "metadata": {},
   "source": [
    "Here an OSS is possible. Since the number of type A programmers is relatively high compared to the innovative potential in the market the signal they could earn in the OSS would be above the wage they get if they would be working for the OSS. At the same time, the number of type A programmers is low enough compared to the total population so that their adequat salary is still above the wage level. "
   ]
  },
  {
   "cell_type": "markdown",
   "id": "5b0d3680",
   "metadata": {},
   "source": [
    "#### CASE 3"
   ]
  },
  {
   "cell_type": "code",
   "execution_count": 216,
   "id": "be0f3fbe",
   "metadata": {},
   "outputs": [
    {
     "data": {
      "text/latex": [
       "$\\displaystyle  \\frac{1}{2}\\ (1+\\sqrt{1- \\frac{q_B}{q_A} \\ }\\ ) \\leq \\frac{n_A}{k_A}\\  $"
      ],
      "text/plain": [
       "<IPython.core.display.Math object>"
      ]
     },
     "metadata": {},
     "output_type": "display_data"
    }
   ],
   "source": [
    "display(Math (rf\" \\frac{{1}}{{2}}\\ (1+\\sqrt{{1- \\frac{{q_B}}{{q_A}} \\ }}\\ ) \\leq \\frac{{n_A}}{{k_A}}\\  \" ))  "
   ]
  },
  {
   "cell_type": "markdown",
   "id": "0e3e763e",
   "metadata": {},
   "source": [
    "In this case the number of type A programmers is high enough that a qualitatively good OSS can come into existence from a certain $\\alpha$ on. But also, if $\\alpha$ is high enough the deferred payoff a programmer might get with the OSS is lower than the salary earned in the CSS. That means: If the transfer-system of information is well developed so that $v_A=q_A$ there can only be an OSS on the market, if the number of programmers of type A is large enough compared to the total population.  "
   ]
  },
  {
   "cell_type": "markdown",
   "id": "48284150",
   "metadata": {},
   "source": [
    "These are all necessary conditions. We cannot conclude with the analysis if an OSS will emerge. "
   ]
  },
  {
   "cell_type": "markdown",
   "id": "d5101439",
   "metadata": {},
   "source": [
    "There is a threshold for $\\alpha$, so that from a certain point on it will not be possible for an OSS to exist since there are too many programmers of type A contributors in the OSS. The deferred payoff will be lower than the wage in the CSS. Or there are not enough programmer so that the OSS is not of good quality and programmers could not earn signals. There can be triggers that $\\alpha$ goes below the threshold. The nearer $\\alpha$ is to one, the higher the probability is for a trigger. The lower the potential for innovation, the lower the probability that the programmer in the OSS can earn signals. "
   ]
  },
  {
   "cell_type": "markdown",
   "id": "53f76eb2",
   "metadata": {},
   "source": [
    "## Importance of information transfer"
   ]
  },
  {
   "cell_type": "markdown",
   "id": "012689ed",
   "metadata": {},
   "source": [
    "For the next analysis we assume that $k_A$ is equal to zero and $v_A$ is not equal to the productivity of programmer of type A. This leads to the following function for the deferred payoff:"
   ]
  },
  {
   "cell_type": "code",
   "execution_count": 217,
   "id": "56f300d2",
   "metadata": {},
   "outputs": [
    {
     "data": {
      "text/latex": [
       "$\\displaystyle - 4 v_{A} \\left(α - 0.5\\right)^{2} + v_{A}$"
      ],
      "text/plain": [
       "-4*v_A*(α - 0.5)**2 + v_A"
      ]
     },
     "execution_count": 217,
     "metadata": {},
     "output_type": "execute_result"
    }
   ],
   "source": [
    "def deff_pay(alpha):\n",
    "    return -4*v_A* (alpha-1/2)**2 + v_A\n",
    "\n",
    "deff_pay(alpha)"
   ]
  },
  {
   "cell_type": "code",
   "execution_count": 218,
   "id": "f7d02a87",
   "metadata": {},
   "outputs": [
    {
     "data": {
      "text/latex": [
       "$\\displaystyle 0$"
      ],
      "text/plain": [
       "0"
      ]
     },
     "execution_count": 218,
     "metadata": {},
     "output_type": "execute_result"
    }
   ],
   "source": [
    "deff_pay(0)"
   ]
  },
  {
   "cell_type": "code",
   "execution_count": 219,
   "id": "c264265d",
   "metadata": {},
   "outputs": [
    {
     "data": {
      "text/latex": [
       "$\\displaystyle 0$"
      ],
      "text/plain": [
       "0"
      ]
     },
     "execution_count": 219,
     "metadata": {},
     "output_type": "execute_result"
    }
   ],
   "source": [
    "deff_pay(1)"
   ]
  },
  {
   "cell_type": "markdown",
   "id": "92752ec0",
   "metadata": {},
   "source": [
    "The optimum would be:"
   ]
  },
  {
   "cell_type": "code",
   "execution_count": 220,
   "id": "9f199fe9",
   "metadata": {},
   "outputs": [
    {
     "data": {
      "text/latex": [
       "$\\displaystyle v_{A}$"
      ],
      "text/plain": [
       "v_A"
      ]
     },
     "execution_count": 220,
     "metadata": {},
     "output_type": "execute_result"
    }
   ],
   "source": [
    "deff_pay(0.5)"
   ]
  },
  {
   "cell_type": "markdown",
   "id": "75dee0ad",
   "metadata": {},
   "source": [
    "The co-existence of OSS and CSS is only possible if the environment on the market permits to transfer signals to the market. The more open the market is and the higher it's valuation, the more probable it is that there is a co-existence on the market. "
   ]
  },
  {
   "cell_type": "markdown",
   "id": "df1a104e",
   "metadata": {},
   "source": [
    "If $v_A$ is low, that means that the transfer mechanism for informations is non-existent or not developed well enough. With the Internet emerging the transfer of information gets better. This increases the probability of a OSS to emerge.  "
   ]
  },
  {
   "cell_type": "markdown",
   "id": "e0dedd9d",
   "metadata": {},
   "source": [
    "## Strategic wage setting"
   ]
  },
  {
   "cell_type": "markdown",
   "id": "3340ef98",
   "metadata": {},
   "source": [
    "Until now we assumed that the CSS sets the wage in a way that it makes zero profits. Here we assume that $k_A=n_A$ and that a firm can chose the employee’s wage. Still there is a pooling wage. The new wage is denoted with $\\hat{w}$. There the minimum wage is $q_B$. If $\\hat{w}$ surpasses $v_A$ there will be no OSS, only the CSS. \n",
    "If the wage gets lowered, the profit will increase. But that increases the probability of a duopoly in the market with an OSS. "
   ]
  },
  {
   "cell_type": "code",
   "execution_count": 221,
   "id": "c4f64d43",
   "metadata": {},
   "outputs": [
    {
     "data": {
      "text/latex": [
       "$\\displaystyle - 4 v_{A} \\left(α - 0.5\\right)^{2} + v_{A}$"
      ],
      "text/plain": [
       "-4*v_A*(α - 0.5)**2 + v_A"
      ]
     },
     "execution_count": 221,
     "metadata": {},
     "output_type": "execute_result"
    }
   ],
   "source": [
    "def new_wage(): \n",
    "    return -4*v_A*(alpha-(1/2))**2+v_A\n",
    "new_wage()"
   ]
  },
  {
   "cell_type": "code",
   "execution_count": 222,
   "id": "fa4c59dc",
   "metadata": {},
   "outputs": [
    {
     "data": {
      "text/latex": [
       "$\\displaystyle  α_1 = \\frac{1}{2}\\ - \\sqrt{ \\frac{v_A- \\hat{w}\\ }{4v_A}\\ } \\ $"
      ],
      "text/plain": [
       "<IPython.core.display.Math object>"
      ]
     },
     "metadata": {},
     "output_type": "display_data"
    }
   ],
   "source": [
    "display(Math(rf' α_1 = \\frac{{1}}{{2}}\\ - \\sqrt{{ \\frac{{v_A- \\hat{{w}}\\ }}{{4v_A}}\\ }} \\ '))"
   ]
  },
  {
   "cell_type": "code",
   "execution_count": 223,
   "id": "8664aebe",
   "metadata": {},
   "outputs": [
    {
     "data": {
      "text/latex": [
       "$\\displaystyle  α_1 = \\frac{1}{2}\\ + \\sqrt{ \\frac{v_A- \\hat{w}\\ }{4v_A}\\ } \\ $"
      ],
      "text/plain": [
       "<IPython.core.display.Math object>"
      ]
     },
     "metadata": {},
     "output_type": "display_data"
    }
   ],
   "source": [
    "display(Math(rf' α_1 = \\frac{{1}}{{2}}\\ + \\sqrt{{ \\frac{{v_A- \\hat{{w}}\\ }}{{4v_A}}\\ }} \\ '))"
   ]
  },
  {
   "cell_type": "markdown",
   "id": "4ec9dd30",
   "metadata": {},
   "source": [
    "There is no solution for $\\hat{w} > v_A$ as we see. The OSS will not existe in this case."
   ]
  },
  {
   "cell_type": "markdown",
   "id": "b799c833",
   "metadata": {},
   "source": [
    "## Literature"
   ]
  },
  {
   "cell_type": "markdown",
   "id": "dbd5afe3",
   "metadata": {},
   "source": [
    "Lee, S., Moisa, N., & Weiß, M. (2003). Open source as a signaling sevice - An economic analysis (No. 102) Working Paper Series: Finance & Accounting. https://www.econstor.eu/bitstream/10419/76971/1/wp102.pdf"
   ]
  },
  {
   "cell_type": "code",
   "execution_count": null,
   "id": "af422eda",
   "metadata": {},
   "outputs": [],
   "source": []
  }
 ],
 "metadata": {
  "kernelspec": {
   "display_name": "Python 3 (ipykernel)",
   "language": "python",
   "name": "python3"
  },
  "language_info": {
   "codemirror_mode": {
    "name": "ipython",
    "version": 3
   },
   "file_extension": ".py",
   "mimetype": "text/x-python",
   "name": "python",
   "nbconvert_exporter": "python",
   "pygments_lexer": "ipython3",
   "version": "3.9.12"
  }
 },
 "nbformat": 4,
 "nbformat_minor": 5
}
